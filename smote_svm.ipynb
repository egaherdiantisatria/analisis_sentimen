{
  "nbformat": 4,
  "nbformat_minor": 0,
  "metadata": {
    "colab": {
      "provenance": [],
      "mount_file_id": "1IJxgiHrCPd89lbJiBr2oYnkQRAcPbiyF",
      "authorship_tag": "ABX9TyPzlTn0/P4D5wE5e94KlXCn",
      "include_colab_link": true
    },
    "kernelspec": {
      "name": "python3",
      "display_name": "Python 3"
    },
    "language_info": {
      "name": "python"
    }
  },
  "cells": [
    {
      "cell_type": "markdown",
      "metadata": {
        "id": "view-in-github",
        "colab_type": "text"
      },
      "source": [
        "<a href=\"https://colab.research.google.com/github/egaherdiantisatria/analisis_sentimen/blob/master/smote_svm.ipynb\" target=\"_parent\"><img src=\"https://colab.research.google.com/assets/colab-badge.svg\" alt=\"Open In Colab\"/></a>"
      ]
    },
    {
      "cell_type": "code",
      "execution_count": null,
      "metadata": {
        "id": "QuQsac9G0K5q"
      },
      "outputs": [],
      "source": [
        "import pandas as pd\n"
      ]
    },
    {
      "cell_type": "code",
      "source": [
        "df=pd.read_excel('/content/drive/MyDrive/Skripsi_Ega/dataset_bersih.xlsx')"
      ],
      "metadata": {
        "id": "1lVKmGH_0XIt"
      },
      "execution_count": null,
      "outputs": []
    },
    {
      "cell_type": "code",
      "source": [
        "from sklearn.feature_extraction.text import TfidfVectorizer"
      ],
      "metadata": {
        "id": "DZ2pGvJN0iMN"
      },
      "execution_count": null,
      "outputs": []
    },
    {
      "cell_type": "code",
      "source": [
        "vectorizer = TfidfVectorizer()\n",
        "vectorizer.fit(df['Stemmigs'])\n",
        "X,y= vectorizer.transform(df['Stemmigs']),df['Ahli']"
      ],
      "metadata": {
        "id": "DJaL4mIy0mHq"
      },
      "execution_count": null,
      "outputs": []
    },
    {
      "cell_type": "code",
      "source": [],
      "metadata": {
        "id": "4-Qgop4i3h5a"
      },
      "execution_count": null,
      "outputs": []
    },
    {
      "cell_type": "code",
      "source": [
        "pip install imbalanced-learn"
      ],
      "metadata": {
        "colab": {
          "base_uri": "https://localhost:8080/"
        },
        "id": "UjA-L6-y0oLa",
        "outputId": "bb3db208-ec28-4957-c6dd-2e34c54b8340"
      },
      "execution_count": null,
      "outputs": [
        {
          "output_type": "stream",
          "name": "stdout",
          "text": [
            "Requirement already satisfied: imbalanced-learn in /usr/local/lib/python3.10/dist-packages (0.10.1)\n",
            "Requirement already satisfied: numpy>=1.17.3 in /usr/local/lib/python3.10/dist-packages (from imbalanced-learn) (1.22.4)\n",
            "Requirement already satisfied: scipy>=1.3.2 in /usr/local/lib/python3.10/dist-packages (from imbalanced-learn) (1.10.1)\n",
            "Requirement already satisfied: scikit-learn>=1.0.2 in /usr/local/lib/python3.10/dist-packages (from imbalanced-learn) (1.2.2)\n",
            "Requirement already satisfied: joblib>=1.1.1 in /usr/local/lib/python3.10/dist-packages (from imbalanced-learn) (1.2.0)\n",
            "Requirement already satisfied: threadpoolctl>=2.0.0 in /usr/local/lib/python3.10/dist-packages (from imbalanced-learn) (3.1.0)\n"
          ]
        }
      ]
    },
    {
      "cell_type": "code",
      "source": [
        "from imblearn.over_sampling import SMOTE"
      ],
      "metadata": {
        "id": "5iwSEifS01oF"
      },
      "execution_count": null,
      "outputs": []
    },
    {
      "cell_type": "code",
      "source": [
        "from sklearn.svm import SVC\n",
        "from sklearn.metrics import accuracy_score\n",
        "from sklearn.model_selection import train_test_split\n",
        "\n",
        "X_train, X_test, y_train, y_test = train_test_split(X, y, train_size=0.80)"
      ],
      "metadata": {
        "id": "WsqBudvB2SQD"
      },
      "execution_count": null,
      "outputs": []
    },
    {
      "cell_type": "code",
      "source": [
        "\n",
        "# Generate and plot a synthetic imbalanced classification dataset\n",
        "from collections import Counter\n",
        "counter= Counter(y_train)\n",
        "print('Before',counter)\n",
        "\n",
        "smt = SMOTE()\n",
        "X_train_sm,y_train_sm= smt.fit_resample(X,y)\n",
        "\n",
        "counter = Counter(y_train_sm)\n",
        "print('After',counter)\n"
      ],
      "metadata": {
        "colab": {
          "base_uri": "https://localhost:8080/"
        },
        "id": "vCxs_A-n3up7",
        "outputId": "ca0150d3-ab4f-4e2d-e660-30203487b636"
      },
      "execution_count": null,
      "outputs": [
        {
          "output_type": "stream",
          "name": "stdout",
          "text": [
            "Before Counter({1: 564, 0: 44})\n",
            "After Counter({0: 697, 1: 697})\n"
          ]
        }
      ]
    },
    {
      "cell_type": "code",
      "source": [
        "#Find the best value of C in support vector\n",
        "#Mesin vektor pendukung (SVM) adalah sekumpulan metode pembelajaran yang diawasi yang digunakan untuk klasifikasi, regresi dan deteksi pencilan\n",
        "\n",
        "for c in [0.01, 0.05, 0.25, 0.5, 1]:\n",
        "\n",
        "    sv = SVC(C=c)\n",
        "    sv.fit(X_train, y_train)\n",
        "    print('Accuracy for C=%s: %s'\n",
        "         % (c, accuracy_score(y_test, sv.predict(X_test))))"
      ],
      "metadata": {
        "colab": {
          "base_uri": "https://localhost:8080/"
        },
        "id": "LTu0xO1Q2Y8h",
        "outputId": "54c7e5b6-8198-481e-ab5f-22794b5f76d1"
      },
      "execution_count": null,
      "outputs": [
        {
          "output_type": "stream",
          "name": "stdout",
          "text": [
            "Accuracy for C=0.01: 0.875\n",
            "Accuracy for C=0.05: 0.875\n",
            "Accuracy for C=0.25: 0.875\n",
            "Accuracy for C=0.5: 0.875\n",
            "Accuracy for C=1: 0.875\n"
          ]
        }
      ]
    },
    {
      "cell_type": "code",
      "source": [
        "#Here I choose C=1 to build the final model for Support Vector.\n",
        "final_model_sv = SVC(C=1)\n",
        "final_model_sv.fit(X, y)\n",
        "print('Final Model Accuracy: %s' %accuracy_score(y_test, final_model_sv.predict(X_test)))"
      ],
      "metadata": {
        "colab": {
          "base_uri": "https://localhost:8080/"
        },
        "id": "-d6qq7-l3uPU",
        "outputId": "1489bc9d-9f55-413e-c28a-c9c940e3a32d"
      },
      "execution_count": null,
      "outputs": [
        {
          "output_type": "stream",
          "name": "stdout",
          "text": [
            "Final Model Accuracy: 0.9078947368421053\n"
          ]
        }
      ]
    },
    {
      "cell_type": "code",
      "source": [
        "for G in [0.01, 0.05, 0.25, 0.5, 1]:\n",
        "\n",
        "    svm_gamma = SVC(gamma=G)\n",
        "    svm_gamma.fit(X_train, y_train)\n",
        "    print('Accuracy for gamma=%s: %s'\n",
        "         % (G, accuracy_score(y_test, svm_gamma.predict(X_test))))"
      ],
      "metadata": {
        "colab": {
          "base_uri": "https://localhost:8080/"
        },
        "id": "io91vsFI8f6Q",
        "outputId": "8992c9cd-0195-4948-ea9f-23f81bc799c4"
      },
      "execution_count": null,
      "outputs": [
        {
          "output_type": "stream",
          "name": "stdout",
          "text": [
            "Accuracy for gamma=0.01: 0.875\n",
            "Accuracy for gamma=0.05: 0.875\n",
            "Accuracy for gamma=0.25: 0.875\n",
            "Accuracy for gamma=0.5: 0.875\n",
            "Accuracy for gamma=1: 0.875\n"
          ]
        }
      ]
    },
    {
      "cell_type": "code",
      "source": [],
      "metadata": {
        "id": "MXgfFijq8jX7"
      },
      "execution_count": null,
      "outputs": []
    }
  ]
}