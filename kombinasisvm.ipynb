{
  "nbformat": 4,
  "nbformat_minor": 0,
  "metadata": {
    "colab": {
      "provenance": [],
      "mount_file_id": "1noITGgMUmt601lL3DNCvMMBwPdWicqkz",
      "authorship_tag": "ABX9TyM+xGLYqUMbZmdFHhiShjuy"
    },
    "kernelspec": {
      "name": "python3",
      "display_name": "Python 3"
    },
    "language_info": {
      "name": "python"
    }
  },
  "cells": [
    {
      "cell_type": "code",
      "execution_count": null,
      "metadata": {
        "id": "9D3YCFW19WiX"
      },
      "outputs": [],
      "source": [
        "import pandas as pd\n"
      ]
    },
    {
      "cell_type": "code",
      "source": [
        "df=pd.read_excel('/content/drive/MyDrive/Skripsi_Ega/dataset_bersih.xlsx')"
      ],
      "metadata": {
        "id": "94rx8r2l9Y_H"
      },
      "execution_count": null,
      "outputs": []
    },
    {
      "cell_type": "code",
      "source": [
        "from sklearn.feature_extraction.text import TfidfVectorizer"
      ],
      "metadata": {
        "id": "cx_ETSAl9g04"
      },
      "execution_count": null,
      "outputs": []
    },
    {
      "cell_type": "code",
      "source": [
        "vectorizer = TfidfVectorizer()\n",
        "vectorizer.fit(df['Stemmigs'])\n",
        "X,y= vectorizer.transform(df['Stemmigs']),df['Ahli']"
      ],
      "metadata": {
        "id": "-M0ED5yV9lH8"
      },
      "execution_count": null,
      "outputs": []
    },
    {
      "cell_type": "code",
      "source": [
        "from imblearn.over_sampling import SMOTE"
      ],
      "metadata": {
        "id": "jq9f4POh9oiG"
      },
      "execution_count": null,
      "outputs": []
    },
    {
      "cell_type": "code",
      "source": [
        "from sklearn.feature_selection import RFE\n",
        "from sklearn.svm import SVC\n",
        "from sklearn.metrics import accuracy_score\n",
        "from sklearn.model_selection import train_test_split\n",
        "from collections import Counter\n",
        "X_train, X_test, y_train, y_test = train_test_split(X, y, train_size=0.80)"
      ],
      "metadata": {
        "id": "yIfy3a_89px9"
      },
      "execution_count": null,
      "outputs": []
    },
    {
      "cell_type": "code",
      "source": [
        "counter= Counter(y_train)\n",
        "print('Before',counter)\n",
        "\n",
        "smt = SMOTE()\n",
        "X_train_sm,y_train_sm= smt.fit_resample(X,y)\n",
        "\n",
        "counter = Counter(y_train_sm)\n",
        "print('After',counter)\n"
      ],
      "metadata": {
        "colab": {
          "base_uri": "https://localhost:8080/"
        },
        "id": "cpPjtzNH9wwM",
        "outputId": "d8aa2803-a0d6-42ef-ddd2-1228bda32681"
      },
      "execution_count": null,
      "outputs": [
        {
          "output_type": "stream",
          "name": "stdout",
          "text": [
            "Before Counter({1: 556, 0: 52})\n",
            "After Counter({0: 697, 1: 697})\n"
          ]
        }
      ]
    },
    {
      "cell_type": "code",
      "source": [
        "#Find the best value of C in support vector\n",
        "#Mesin vektor pendukung (SVM) adalah sekumpulan metode pembelajaran yang diawasi yang digunakan untuk klasifikasi, regresi dan deteksi pencilan\n",
        "\n",
        "for c in [0.01, 0.05, 0.25, 0.5, 1]:\n",
        "    svc = SVC(kernel='linear',C=c)\n",
        "    rfe = RFE(estimator=svc,n_features_to_select = 2106,step=1 )\n",
        "    rfe.fit(X_train, y_train)\n",
        "    print('Accuracy for C=%s: %s'\n",
        "         % (c, accuracy_score(y_test, rfe.predict(X_test))))"
      ],
      "metadata": {
        "colab": {
          "base_uri": "https://localhost:8080/"
        },
        "id": "EOr0MDnb9zOs",
        "outputId": "2d709c5c-df41-4bcb-d314-3d31c4b2a84e"
      },
      "execution_count": null,
      "outputs": [
        {
          "output_type": "stream",
          "name": "stdout",
          "text": [
            "Accuracy for C=0.01: 0.9276315789473685\n",
            "Accuracy for C=0.05: 0.9276315789473685\n",
            "Accuracy for C=0.25: 0.9276315789473685\n",
            "Accuracy for C=0.5: 0.9276315789473685\n",
            "Accuracy for C=1: 0.9210526315789473\n"
          ]
        }
      ]
    },
    {
      "cell_type": "code",
      "source": [
        "#Find the best value of C in support vector\n",
        "#Mesin vektor pendukung (SVM) adalah sekumpulan metode pembelajaran yang diawasi yang digunakan untuk klasifikasi, regresi dan deteksi pencilan\n",
        "\n",
        "for G in [0.01, 0.05, 0.25, 0.5, 1]:\n",
        "    svc_gamma = SVC(kernel='linear',gamma=G)\n",
        "    rfee = RFE(estimator=svc,n_features_to_select = 2106,step=1 )\n",
        "    rfee.fit(X_train, y_train)\n",
        "    print('Accuracy for G=%s: %s'\n",
        "         % (G, accuracy_score(y_test, rfee.predict(X_test))))"
      ],
      "metadata": {
        "colab": {
          "base_uri": "https://localhost:8080/"
        },
        "id": "bvUkZNY_958l",
        "outputId": "d2ce4b55-93bf-4dc9-b5d8-344a98fe8f5d"
      },
      "execution_count": null,
      "outputs": [
        {
          "output_type": "stream",
          "name": "stdout",
          "text": [
            "Accuracy for G=0.01: 0.9210526315789473\n",
            "Accuracy for G=0.05: 0.9210526315789473\n",
            "Accuracy for G=0.25: 0.9210526315789473\n",
            "Accuracy for G=0.5: 0.9210526315789473\n",
            "Accuracy for G=1: 0.9210526315789473\n"
          ]
        }
      ]
    },
    {
      "cell_type": "markdown",
      "source": [],
      "metadata": {
        "id": "CzBIvJBM9an7"
      }
    }
  ]
}